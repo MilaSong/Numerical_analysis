{
 "cells": [
  {
   "cell_type": "markdown",
   "metadata": {},
   "source": [
    "# SIN. Skaitinis integravimas.\n",
    "### SIN1. Aproksimavimas nulinės eilės daugianariu\n",
    "Skaitiniame integravime integruojamą funciją $f(x)$ keičiame funkcija $\\varphi(x)$. Pasižymime skaičiuojamą integralą:\n",
    "$$ I = \\int_a^b f(x)dx, $$\n",
    "kuriam integravimo srityje [a,b] pasirinktas žingsnio $h=x_{i+1} - x_i$, o aproksimuojama funkcija $\\varphi(x)$ pasirenkama taip:\n",
    "$$ \\varphi(x) = f(\\xi). $$\n",
    "\n",
    "Tuomet:\n",
    "$ I = \\int_a^b f(x)dx = \\int_a^b \\varphi(x)dx + R = \\sum_{i=0}^{n-1} h_i f(\\xi_i) + R $\n",
    "\n",
    "- Jei $ \\xi_i = x_i $ - tai kairiųjų stačiakampių metodas (K);\n",
    "- Jei $ \\xi_i = x_{i+1} $ - tai dešiniųjų stačiakampių metodas (D);\n",
    "- Jei $ \\xi_i = \\frac{x_i + x_{i+1}}{2} $ - tai vidurinių stačiakampių metodas (V);\n",
    "\n",
    "$$ K = \\sum_{i=0}^{n-1} h_i f(x_i), \\quad D =  \\sum_{i=0}^{n-1} h_i f(x_{i+1}), \\quad V = \\sum_{i=0}^{n-1} h_i f\\left(\\frac{x_i + x_{i+1}}{2}\\right) $$\n",
    "\n",
    "\n",
    "Jei tinklas tolydinis, t.y. $ h \\equiv h_i = \\frac{b-a}{n}$, tai:\n",
    "$$ K = h\\sum_{i=0}^{n-1} f(x_i), \\quad D =  h\\sum_{i=0}^{n-1} f(x_{i+1}), \\quad V = h\\sum_{i=0}^{n-1}f\\left(\\frac{x_i + x_{i+1}}{2}\\right)$$"
   ]
  },
  {
   "cell_type": "code",
   "execution_count": 87,
   "metadata": {},
   "outputs": [],
   "source": [
    "import numpy as np\n",
    "import matplotlib.pyplot as plt"
   ]
  },
  {
   "cell_type": "code",
   "execution_count": 88,
   "metadata": {},
   "outputs": [],
   "source": [
    "f = lambda t: t*np.sin(2*t) # Integration function\n",
    "F = lambda t: (np.sin(2*t))/(4) + (t * ((2*(np.sin(t)**2)) -1))/(2)\n",
    "a, b = 1, 1.5 # Integration interval\n",
    "n = 10 # Number of integration points\n",
    "I = F(b) - F(a)\n",
    "h = (b-a)/n\n",
    "x = [a+(i*h) for i in range(0,n+1)]"
   ]
  },
  {
   "cell_type": "code",
   "execution_count": 89,
   "metadata": {},
   "outputs": [],
   "source": [
    "def K(H, X, function):\n",
    "    return H * sum([ function(X[i]) for i in range(len(X)-1) ])\n",
    "\n",
    "def D(H, X, function):\n",
    "    return H * sum([ function(X[i+1]) for i in range(len(X)-1) ])\n",
    "\n",
    "def V(H, X, function):\n",
    "    return H * sum([ function((X[i]+X[i+1])/2) for i in range(len(X)-1) ])\n",
    "\n",
    "def sant_err(i, x):\n",
    "    return abs(i-x)\n",
    "\n",
    "def abs_err(i, x):\n",
    "    return sant_err(i,x)/abs(i)\n",
    "\n",
    "def plot_err(n, title, legend, *args):\n",
    "    plt.yscale(\"log\")\n",
    "    plt.title(title)\n",
    "    for i in args:\n",
    "        plt.plot(n, i)\n",
    "    plt.legend(legend)\n",
    "    plt.show()\n",
    "    \n",
    "def minMax(**kwargs):\n",
    "    for i in kwargs:\n",
    "        print(f\"Max {i} paklaida: {max(kwargs[i])}\")\n",
    "        print(f\"Min {i} paklaida: {min(kwargs[i])}\")"
   ]
  },
  {
   "cell_type": "code",
   "execution_count": 90,
   "metadata": {},
   "outputs": [
    {
     "name": "stdout",
     "output_type": "stream",
     "text": [
      "Integralas K metodu: 0.359211492803261\n",
      "Integralas D metodu: 0.32433062206646684\n",
      "Integralas V metodu: 0.34267942837506327\n",
      "\n",
      "Santykine K paklaida: 0.016834893317951627\n",
      "Santykine D paklaida: 0.018045977418842507\n",
      "Santykine V paklaida: 0.0003028288897539144\n",
      "\n",
      "Absoliutine K paklaida: 0.049170689069461294%\n",
      "Absoliutine D paklaida: 0.05270797550408179%\n",
      "Absoliutine V paklaida: 0.0008844906170840924%\n"
     ]
    }
   ],
   "source": [
    "k = K(h, x, f)\n",
    "d = D(h, x, f)\n",
    "v = V(h, x, f)\n",
    "\n",
    "santykine_k = sant_err(I, k)\n",
    "santykine_d = sant_err(I, d)\n",
    "santykine_v = sant_err(I, v)\n",
    "\n",
    "abs_k = abs_err(I, k)\n",
    "abs_d = abs_err(I, d)\n",
    "abs_v = abs_err(I, v)\n",
    "\n",
    "print(f\"Integralas K metodu: {k}\")\n",
    "print(f\"Integralas D metodu: {d}\")\n",
    "print(f\"Integralas V metodu: {v}\")\n",
    "print()\n",
    "print(f\"Santykine K paklaida: {santykine_k}\")\n",
    "print(f\"Santykine D paklaida: {santykine_d}\")\n",
    "print(f\"Santykine V paklaida: {santykine_v}\")\n",
    "print()\n",
    "print(f\"Absoliutine K paklaida: {abs_k}%\")\n",
    "print(f\"Absoliutine D paklaida: {abs_d}%\")\n",
    "print(f\"Absoliutine V paklaida: {abs_v}%\")"
   ]
  },
  {
   "cell_type": "markdown",
   "metadata": {},
   "source": [
    "### SIN2. Lokalinis interpoliavimas pirmos eilės daugianariu (Trapecijų metodas).\n",
    "Skaitiniame integravime integruojamą funciją $f(x)$ keičiame funkcija $\\varphi(x)$. Pasižymime skaičiuojamą integralą:\n",
    "$$ I = \\int_a^b f(x)dx, $$\n",
    "kuriam integravimo srityje [a,b] pasirinktas žingsnio $h=x_{i+1} - x_i$, o lokaliai interpoliuojančios funkcijos $P_i(x)$\n",
    "pasirenkamos taip:\n",
    "$$ P_i(x) = \\frac{f(x_{i+1})-f(x_{i})}{x_{i+1}-x_i}(x-x_i) + f(x_i). $$\n",
    "Iš to gauname:\n",
    "$$ I = \\int_a^bf(x)dx = \\frac{1}{2}\\sum_{i=0}^{n-1}h_i \\left[ f(x_i) + f(x_{i+1}) \\right] + R $$\n",
    "Jei tinklas tolydinis, t.y. $ h \\equiv h_i = \\frac{b-a}{n}$, tai:\n",
    "$$ T = \\frac{h}{2}\\sum_{i=0}^{n-1}\\left[ f(x_i) - f(x_{i+1}) \\right].  $$"
   ]
  },
  {
   "cell_type": "code",
   "execution_count": 91,
   "metadata": {},
   "outputs": [],
   "source": [
    "f = lambda t: t*np.sin(2*t) # Integration function\n",
    "F = lambda t: (np.sin(2*t))/(4) + (t * ((2*(np.sin(t)**2)) -1))/(2)\n",
    "a, b = 1, 1.5 # Integration interval\n",
    "n = 10 # Number of integration points\n",
    "I = F(b) - F(a)\n",
    "h = (b-a)/n\n",
    "x = [a+(i*h) for i in range(0,n+1)]"
   ]
  },
  {
   "cell_type": "code",
   "execution_count": 92,
   "metadata": {},
   "outputs": [],
   "source": [
    "def T(H, X, F):\n",
    "    return (H/2) * sum([ (F(X[i]) + F(X[i+1])) for i in range(len(X)-1) ])"
   ]
  },
  {
   "cell_type": "code",
   "execution_count": 93,
   "metadata": {},
   "outputs": [
    {
     "name": "stdout",
     "output_type": "stream",
     "text": [
      "Integralas T metodu: 0.3417710574348639\n",
      "Santykine T paklaida: 0.0006055420504454401\n",
      "Absoliutine T paklaida: 0.001768643217310249%\n"
     ]
    }
   ],
   "source": [
    "t = T(h, x, f)\n",
    "santykine_t = sant_err(I, t)\n",
    "abs_t = abs_err(I, t)\n",
    "\n",
    "print(f\"Integralas T metodu: {t}\")\n",
    "print(f\"Santykine T paklaida: {santykine_t}\")\n",
    "print(f\"Absoliutine T paklaida: {abs_t}%\")"
   ]
  },
  {
   "cell_type": "markdown",
   "metadata": {},
   "source": [
    "### SIN3. Lokalinis interpoliavimas antros eilės daugianariu (Simpsono metodas).\n",
    "Naudojamas artinys:\n",
    "$$ S_i = \\int_{x_i}^{x_{i+1}} P_i(x)dx = \\frac{h_i}{6} \\left[ f(x_i) + 4f\\left(\\frac{x_i + x_{i+1}}{2}\\right) \\right] + f(x_{i+1}) $$"
   ]
  },
  {
   "cell_type": "code",
   "execution_count": 94,
   "metadata": {},
   "outputs": [],
   "source": [
    "f = lambda t: t*np.sin(2*t) # Integration function\n",
    "F = lambda t: (np.sin(2*t))/(4) + (t * ((2*(np.sin(t)**2)) -1))/(2)\n",
    "a, b = 1, 1.5 # Integration interval\n",
    "n = 10 # Number of integration points\n",
    "I = F(b) - F(a)\n",
    "h = (b-a)/n\n",
    "x = [a+(i*h) for i in range(0,n+1)]"
   ]
  },
  {
   "cell_type": "code",
   "execution_count": 95,
   "metadata": {},
   "outputs": [],
   "source": [
    "def S(H, X, F):\n",
    "    return (h/6) * sum([ ( F(x[i]) + 4*F((X[i]+X[i+1])/2) + f(X[i+1]) ) for i in range(len(X)-1)])"
   ]
  },
  {
   "cell_type": "code",
   "execution_count": 96,
   "metadata": {},
   "outputs": [
    {
     "name": "stdout",
     "output_type": "stream",
     "text": [
      "Integralas S metodu: 0.34237663806166346\n",
      "Santykine S paklaida: 3.8576354111086175e-08\n",
      "Absoliutine S paklaida: 1.1267228592455661e-07%\n"
     ]
    }
   ],
   "source": [
    "s = S(h, x, f)\n",
    "santykine_s = sant_err(I, s)\n",
    "abs_s = abs_err(I, s)\n",
    "\n",
    "print(f\"Integralas S metodu: {s}\")\n",
    "print(f\"Santykine S paklaida: {santykine_s}\")\n",
    "print(f\"Absoliutine S paklaida: {abs_s}%\")"
   ]
  },
  {
   "cell_type": "markdown",
   "metadata": {},
   "source": [
    "### Paklaidų braižymas"
   ]
  },
  {
   "cell_type": "code",
   "execution_count": 97,
   "metadata": {},
   "outputs": [
    {
     "data": {
      "image/png": "[encoded data removed]",
      "text/plain": [
       "<Figure size 432x288 with 1 Axes>"
      ]
     },
     "metadata": {
      "needs_background": "light"
     },
     "output_type": "display_data"
    },
    {
     "data": {
      "image/png": "[encoded data removed]",
      "text/plain": [
       "<Figure size 432x288 with 1 Axes>"
      ]
     },
     "metadata": {
      "needs_background": "light"
     },
     "output_type": "display_data"
    },
    {
     "data": {
      "image/png": "[encoded data removed]",
      "text/plain": [
       "<Figure size 432x288 with 1 Axes>"
      ]
     },
     "metadata": {
      "needs_background": "light"
     },
     "output_type": "display_data"
    },
    {
     "name": "stdout",
     "output_type": "stream",
     "text": [
      "Max K paklaida: 0.1122721139275315\n",
      "Min K paklaida: 0.016834893317951627\n",
      "Max D paklaida: 0.23653659344040895\n",
      "Min D paklaida: 0.018045977418842507\n",
      "Max V paklaida: 0.03166849057966342\n",
      "Min V paklaida: 0.0003028288897539144\n",
      "\n",
      "Max T paklaida: 0.06213223975643872\n",
      "Min T paklaida: 0.0006055420504454401\n",
      "\n",
      "Max S paklaida: 0.06213223975643872\n",
      "Min S paklaida: 0.0006055420504454401\n"
     ]
    }
   ],
   "source": [
    "x_space_k, x_space_d, x_space_v, x_space_t, x_space_s = [], [], [], [], []\n",
    "err_space_k,err_space_d, err_space_v, err_space_t, err_space_s = [], [], [], [], []\n",
    "integral = F(b) - F(a)\n",
    "\n",
    "for i in range(n):\n",
    "    x = np.linspace(1, 1.5, i + 2)\n",
    "    h = (b - a) / (i + 1)\n",
    "    \n",
    "    x_k = K(h, x, f)\n",
    "    x_space_k.append(x_k)\n",
    "    err_space_k.append(sant_err(integral, x_k))\n",
    "\n",
    "    x_d = D(h, x, f)\n",
    "    x_space_d.append(x_d)\n",
    "    err_space_d.append(sant_err(integral, x_d))\n",
    "    \n",
    "    x_v = V(h, x, f)\n",
    "    x_space_v.append(x_v)\n",
    "    err_space_v.append(sant_err(integral, x_v))\n",
    "    \n",
    "    x_t = T(h, x, f)\n",
    "    x_space_t.append(x_t)\n",
    "    err_space_t.append(sant_err(integral, x_t))\n",
    "    \n",
    "    x_s = T(h, x, f)\n",
    "    x_space_s.append(x_s)\n",
    "    err_space_s.append(sant_err(integral, x_s))\n",
    "    \n",
    "plot_err(range(n), 'Staciakampiu metodas', ('K', 'D', 'V'), err_space_k, err_space_d, err_space_v)\n",
    "plot_err(range(n), 'Trapeciju metodas', 'T', err_space_t)\n",
    "plot_err(range(n), 'Simpsono metodas', 'S', err_space_s)\n",
    "\n",
    "minMax(K=err_space_k, D=err_space_d, V=err_space_v)\n",
    "print()\n",
    "minMax(T=err_space_t)\n",
    "print()\n",
    "minMax(S=err_space_s)"
   ]
  }
 ],
 "metadata": {
  "kernelspec": {
   "display_name": "Python 3",
   "language": "python",
   "name": "python3"
  },
  "language_info": {
   "codemirror_mode": {
    "name": "ipython",
    "version": 3
   },
   "file_extension": ".py",
   "mimetype": "text/x-python",
   "name": "python",
   "nbconvert_exporter": "python",
   "pygments_lexer": "ipython3",
   "version": "3.8.5"
  }
 },
 "nbformat": 4,
 "nbformat_minor": 4
}
