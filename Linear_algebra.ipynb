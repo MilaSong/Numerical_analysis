{
 "cells": [
  {
   "cell_type": "markdown",
   "metadata": {},
   "source": [
    "# MA.MATRICŲ TIKRINĖS REIKŠMĖS IR TIKRINIAI VEKTORIAI"
   ]
  },
  {
   "cell_type": "markdown",
   "metadata": {},
   "source": [
    "### Pagrindinės sąvokos 1\n",
    "Turime matricą\n",
    ": A = $\\left(\\begin{array}{cc} \n",
    "a & b\\\\ \n",
    "c & d\n",
    "\\end{array}\\right)$,\n",
    "tuomet:\n",
    "\n",
    "Transponuota pagal pagrindinę įstrižainę\n",
    ": $T(A) = A^T =  \\left(\\begin{array}{cc} \n",
    "a & c\\\\ \n",
    "b & d\n",
    "\\end{array}\\right)$\n",
    "\n",
    "Transponuota pagal šalutinę įstrižainę\n",
    ": $D(A) =  \\left(\\begin{array}{cc} \n",
    "d & b\\\\ \n",
    "c & a\n",
    "\\end{array}\\right)$\n",
    "\n",
    "Matricos pėdsakas\n",
    ": $tr(A) = a+d$\n",
    "\n",
    "Determinantas\n",
    ": $det(A) = ad - cb$\n",
    "\n",
    "Diskriminantas\n",
    ": $dsk(A) = tr^2(A) - 4det(A) \\equiv (a-d)^2 +4bc$\n",
    "\n",
    "Tarpas(?) (gap)\n",
    ": $gap(A) = +\\sqrt{dsk(A)}$, jei $dsk(A) \\geq 0$\n",
    "\n",
    "Tikrinės reikšmės\n",
    ": $\\lambda(A) = \\frac12\\left(\\begin{array}{c} \n",
    "tr^2(A)+gap(A)\\\\ \n",
    "tr^2(A)-gap(A)\n",
    "\\end{array}\\right)$, jei $dsk(A) \\geq 0$\n",
    "\n",
    "Matricos spektras\n",
    ": aibė $\\sigma(A) = \\{\\lambda_1, \\lambda_2\\}$ \n",
    "\n",
    "Matricos spektro spindulys\n",
    ": realusis skaičius $\\rho(A) = \\max_{\\lambda \\in \\sigma(A)}(\\lambda)$"
   ]
  },
  {
   "cell_type": "code",
   "execution_count": 2,
   "metadata": {},
   "outputs": [],
   "source": [
    "import numpy as np\n",
    "from cmath import sqrt\n",
    "import math"
   ]
  },
  {
   "cell_type": "code",
   "execution_count": 3,
   "metadata": {},
   "outputs": [],
   "source": [
    "def tr(matrix):\n",
    "    return np.trace(matrix)\n",
    "\n",
    "def det(matrix):\n",
    "    return np.linalg.det(matrix)\n",
    "\n",
    "def dsk(matrix):\n",
    "    return tr(matrix)**2 - 4*det(matrix)\n",
    "\n",
    "def eigenvalue(matrix):\n",
    "    return 0.5 * (tr(A) + sqrt(dsk(A))), 0.5 * (tr(A) - sqrt(dsk(A)))\n",
    "\n",
    "def spectrum(matrix):\n",
    "    return max(abs(eigenvalue(matrix)[0]), abs(eigenvalue(matrix)[1]))"
   ]
  },
  {
   "cell_type": "code",
   "execution_count": 4,
   "metadata": {},
   "outputs": [
    {
     "name": "stdout",
     "output_type": "stream",
     "text": [
      "Trace: 5\n",
      "Determinant: 10.000000000000002\n",
      "Discriminant: -15.000000000000007\n",
      "Lambda_1: (2.5+1.936491673103709j)\n",
      "Lambda_1: (2.5-1.936491673103709j)\n",
      "Rho: 3.1622776601683795\n"
     ]
    }
   ],
   "source": [
    "A = np.array([[1,-2],[3,4]])\n",
    "\n",
    "print(f\"Trace: {tr(A)}\")\n",
    "print(f\"Determinant: {det(A)}\")\n",
    "print(f\"Discriminant: {dsk(A)}\")\n",
    "print(f\"Lambda_1: {eigenvalue(A)[0]}\")\n",
    "print(f\"Lambda_1: {eigenvalue(A)[1]}\")\n",
    "print(f\"Rho: {spectrum(A)}\")"
   ]
  },
  {
   "cell_type": "markdown",
   "metadata": {},
   "source": [
    "### MA3. Matricos tikrinių reikšmių savybės\n",
    "Th3.1.\n",
    ": $0 \\in \\sigma(A) \\iff det(A)=0$ \n",
    "\n",
    "Th3.2.\n",
    ": Jei $bc>0$ arba $A=A^T$, tai $\\sigma(A) \\subset \\mathbb{R}$\n",
    "\n",
    "Th3.3.\n",
    ": $\\sigma(A^T) = \\sigma(A^D) = \\sigma(A)$\n",
    "\n",
    "Th3.4.\n",
    ": Jei $det(A) \\neq 0$ ir $\\sigma(A) = \\{ \\lambda_1, \\lambda_2 \\}$,  tai $\\sigma(A^{-1}) = \\Big\\{ \\frac{\\lambda_1}{det(A)}, \\frac{\\lambda_2}{det(A)}\\Big\\}$."
   ]
  },
  {
   "cell_type": "markdown",
   "metadata": {},
   "source": [
    "### MA4. Matricos tikriniai vektoriai\n",
    "Th4.1.\n",
    ": Jei $\\lambda_1$ ir $\\lambda_2$ yra matricos A tikrinės reikšmės, tada matricos tikriniai vektoriai $v(\\lambda_1)$ ir $v(\\lambda_2)$ gaunami\n",
    "\n",
    "$v(\\lambda_1) = \\begin{cases} C_1(A-\\lambda_2E)^{\\langle 1\\rangle}, & \\mbox{jei } (A-\\lambda_2E)^{\\langle 1\\rangle} \\neq 0 \\\\ C_1(A-\\lambda_2E)^{\\langle 2\\rangle}, & \\mbox{jei } (A-\\lambda_2E)^{\\langle 2\\rangle} \\neq 0 \\end{cases}$, \n",
    "\n",
    "$v(\\lambda_2) = \\begin{cases} C_2(A-\\lambda_1E)^{\\langle 1\\rangle}, & \\mbox{jei } (A-\\lambda_1E)^{\\langle 1\\rangle} \\neq 0 \\\\ C_2(A-\\lambda_1E)^{\\langle 2\\rangle}, & \\mbox{jei } (A-\\lambda_1E)^{\\langle 2\\rangle} \\neq 0 \\end{cases}$"
   ]
  },
  {
   "cell_type": "code",
   "execution_count": 6,
   "metadata": {},
   "outputs": [],
   "source": [
    "def eigenvectors(matrix):\n",
    "    v1 = A - eigenvalue(matrix)[1]*np.identity(A.shape[0])\n",
    "    v2 = A - eigenvalue(matrix)[0]*np.identity(A.shape[0])\n",
    "    return v1, v2"
   ]
  },
  {
   "cell_type": "code",
   "execution_count": 7,
   "metadata": {},
   "outputs": [
    {
     "name": "stdout",
     "output_type": "stream",
     "text": [
      "Kai lambda = (4+0j), tai v1 = [-3.+0.j  3.+0.j], v2 = [ 2.+0.j -2.+0.j]\n",
      "Kai lambda = (-1+0j), tai v1 = [2.+0.j 3.+0.j], v2 = [2.+0.j 3.+0.j]\n"
     ]
    }
   ],
   "source": [
    "A = np.array([[1,2],[3,2]])\n",
    "ev = eigenvectors(A)\n",
    "print(f\"Kai lambda = {eigenvalue(A)[0]}, tai v1 = {ev[1][:,0]}, v2 = {ev[1][:,1]}\")\n",
    "print(f\"Kai lambda = {eigenvalue(A)[1]}, tai v1 = {ev[0][:,0]}, v2 = {ev[0][:,1]}\")"
   ]
  },
  {
   "cell_type": "markdown",
   "metadata": {},
   "source": [
    "### MA6.Homogeninės tiesionių lygčių sistemos priklausančios nuo parametro sprendimas\n",
    "Reikia rasti visas parametro $p \\in \\mathbb{R}$ reikšmes, kuriomis homogeninė tiesinių lygčių sistema:\n",
    "$Ax - pEx = o $ turi nenulinius sprendinius.\n",
    "\n",
    "Homogeninė sistema turi nenulinius sprendinius tada ir tik tada, kai $det[A(p)] = 0$. Todėl kvadratinė lygtis p atžvilgiu turi tik du sprendinius:\n",
    "\n",
    "$p \\equiv \\left(\\begin{array}{cc} \n",
    "p_1 \\\\ \n",
    "p_2 \n",
    "\\end{array}\\right) = \\frac12\\left(\\begin{array}{c} \n",
    "tr(A)+\\sqrt{dsk(A)}\\\\ \n",
    "tr(A)-\\sqrt{dsk(A)}\n",
    "\\end{array}\\right) $"
   ]
  },
  {
   "cell_type": "code",
   "execution_count": null,
   "metadata": {},
   "outputs": [],
   "source": []
  }
 ],
 "metadata": {
  "kernelspec": {
   "display_name": "Python 3",
   "language": "python",
   "name": "python3"
  },
  "language_info": {
   "codemirror_mode": {
    "name": "ipython",
    "version": 3
   },
   "file_extension": ".py",
   "mimetype": "text/x-python",
   "name": "python",
   "nbconvert_exporter": "python",
   "pygments_lexer": "ipython3",
   "version": "3.8.5"
  }
 },
 "nbformat": 4,
 "nbformat_minor": 4
}
