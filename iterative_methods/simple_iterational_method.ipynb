{
 "cells": [
  {
   "cell_type": "code",
   "execution_count": 67,
   "metadata": {},
   "outputs": [],
   "source": [
    "import numpy as np\n",
    "import warnings\n",
    "import matplotlib.pyplot as plt\n",
    "from numpy import inf\n",
    "warnings.filterwarnings('ignore')"
   ]
  },
  {
   "cell_type": "code",
   "execution_count": 68,
   "metadata": {},
   "outputs": [],
   "source": [
    "def solve_simple(X_0, F, eps):\n",
    "    X_vec = X_0\n",
    "    xk1 = X_0\n",
    "    k = 1\n",
    "    while(True):\n",
    "        xk = F(xk1)\n",
    "        if xk==float(\"inf\"):\n",
    "            print(\"Algorithm diverges\")\n",
    "            print()\n",
    "            return X_vec\n",
    "        X_vec = np.vstack((X_vec, xk))\n",
    "        if abs(xk - xk1) < eps:\n",
    "            print(\"Algorithm converges\")\n",
    "            print()\n",
    "            return X_vec\n",
    "        xk1 = xk\n",
    "        k+=1"
   ]
  },
  {
   "cell_type": "code",
   "execution_count": 69,
   "metadata": {},
   "outputs": [],
   "source": [
    "def solve_smooth(X_0, F, eps, l_coef):\n",
    "    xk1 = X_0\n",
    "    X_vec = X_0\n",
    "    lk = 1\n",
    "    k = 1\n",
    "    while(True):\n",
    "        lk = l_coef*lk\n",
    "        xk = lk*xk1 + (1-lk)*F(xk1)\n",
    "        if xk==float(\"inf\"):\n",
    "            print(\"Algorithm diverges\")\n",
    "            print()\n",
    "            return X_vec\n",
    "        X_vec = np.vstack((X_vec, xk))\n",
    "        if abs(xk - xk1) < eps:\n",
    "            print(\"Algorithm converges\")\n",
    "            print()\n",
    "            return X_vec\n",
    "\n",
    "        xk1 = xk\n",
    "        k+=1"
   ]
  },
  {
   "cell_type": "code",
   "execution_count": 70,
   "metadata": {},
   "outputs": [
    {
     "name": "stdout",
     "output_type": "stream",
     "text": [
      "Algorithm diverges\n",
      "\n",
      "Algorithm converges\n",
      "\n"
     ]
    }
   ],
   "source": [
    "f = lambda t: np.exp((t-2)**2) - 2\n",
    "epsilon = 1e-8\n",
    "lambda_coef = 0.99\n",
    "x0 = 0.95\n",
    "x_vec1 = solve_simple(x0, f, epsilon)\n",
    "x_vec2 = solve_smooth(x0, f, epsilon, lambda_coef)"
   ]
  },
  {
   "cell_type": "code",
   "execution_count": 71,
   "metadata": {},
   "outputs": [
    {
     "data": {
      "image/png": "[encoded data removed]",
      "text/plain": [
       "<Figure size 432x288 with 2 Axes>"
      ]
     },
     "metadata": {
      "needs_background": "light"
     },
     "output_type": "display_data"
    }
   ],
   "source": [
    "fig, axs = plt.subplots(2, 1)\n",
    "axs[0].plot(np.arange(len(x_vec1)), x_vec1, color='c', label=\"x^* : simple\")\n",
    "axs[1].plot(np.arange(len(x_vec2)), x_vec2, color='g', label=\"x^* : smooth\")\n",
    "axs[0].legend(shadow=True, fancybox=True)\n",
    "axs[1].legend(shadow=True, fancybox=True)\n",
    "plt.show()"
   ]
  },
  {
   "cell_type": "code",
   "execution_count": null,
   "metadata": {},
   "outputs": [],
   "source": []
  }
 ],
 "metadata": {
  "kernelspec": {
   "display_name": "Python 3",
   "language": "python",
   "name": "python3"
  },
  "language_info": {
   "codemirror_mode": {
    "name": "ipython",
    "version": 3
   },
   "file_extension": ".py",
   "mimetype": "text/x-python",
   "name": "python",
   "nbconvert_exporter": "python",
   "pygments_lexer": "ipython3",
   "version": "3.8.5"
  }
 },
 "nbformat": 4,
 "nbformat_minor": 4
}
