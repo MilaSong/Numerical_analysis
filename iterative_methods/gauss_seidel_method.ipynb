{
 "cells": [
  {
   "cell_type": "markdown",
   "metadata": {},
   "source": [
    "# Iteracinis Gauso-Zeidelio metodas"
   ]
  },
  {
   "cell_type": "markdown",
   "metadata": {},
   "source": [
    "Sprendžiame tiesinių lygčių sistemą:\n",
    "$$ \\begin{cases} a_{11}x_1 + a_{12}x_2 + ... + a_{1n}x_n = b_1\\\\ a_{21}x_1 + a_{22}x_2 + ... + a_{2n}x_n = b_2\\\\ ... \\\\ a_{n1}x_1 + a_{n2}x_2 + ... + a_{nn}x_n = b_n\\end{cases} $$,\n",
    "kurioje $a_{ii} \\neq 0, \\quad i=\\overline{1,n}$.\n",
    "\n",
    "Iš kiekvienos lygties išsireiškiame kintamuosius:\n",
    "$$ \\begin{cases} a_{11}x_1^{(k)} = b_1 - a_{12}x_2^{(k-1)} - ... - a_{1n}x_n^{(k-1)} \\\\ a_{21}x_2^{(k)} + a_{22}x_2^{(k)} = b_2 - a_{23}x_3^{(k-1)} - ... - a_{2n}x_n^{(k-1)} \\\\ ... \\\\ a_{1n}x_1^{(k)} + a_{n2}x_2^{(k)} + ... + a_{nn}x_n^{(k)} = b_n \\end{cases} $$\n",
    "\n",
    "Tai yra, sprendinių vektorius yra lygus:\n",
    "$$ x_i^{(k)} = \\frac{1}{a_{ii}}\\bigg( -\\sum_{j=1}^{i-1}(a_{ij}x_i^{(k)}) - \\sum_{j=i+1}^n(a_{ij}x_i^{(k-1)}) \\bigg) $$\n",
    "\n",
    "\n",
    "Šis procesas kartojamas iki tol, kol skirtumas tarp $k$ ir $k+1$ sprendinių vektoriaus bus mažesnis už pakankamai mažą dydį $\\varepsilon$:\n",
    "$$ | x^{(k)} - x^{(k+1)} | \\leq \\varepsilon $$\n",
    "\n",
    "## Matricinis užrašymas\n",
    "Sprendžiame tiesinių lygčių sistemą:\n",
    "\n",
    "$$ A = \\begin{pmatrix} a_{11} & a_{12} & ... & a_{1n} \\\\ a_{21} & a_{22} & ... & a_{2n} \\\\ ... \\\\ a_{n1} & a_{n2} & ... & a_{nn} \\end{pmatrix},  \\quad \n",
    "   b = \\begin{pmatrix} b_1 \\\\ b_2 \\\\ ... \\\\ b_n \\end{pmatrix}, \\quad \n",
    "   x = \\begin{pmatrix} x_1 \\\\ x_2 \\\\ ... \\\\ x_n \\end{pmatrix}. $$\n",
    " \n",
    "Perrašome matricą A į:\n",
    "$$ A = \\begin{pmatrix} a_{11} & 0 & ... & 0 \\\\ 0 & a_{22} & ... & 0 \\\\ ... \\\\ 0 & 0 & ... & a_{nn} \\end{pmatrix} \\; - \\;\n",
    "   \\begin{pmatrix} 0 & ... & 0 & 0 \\\\ -a_{21} & ... & 0 & 0 \\\\ ... \\\\ -a_{n1} & ... & -a_{n,n-1} & 0 \\end{pmatrix}  \\; - \\;\n",
    "   \\begin{pmatrix} 0 & -a_{12} & ... & -a_{1n} \\\\ 0 & 0 & ... & ... \\\\ ... & & & -a_{n-1,n} \\\\ 0 & 0 & ... & 0 \\end{pmatrix} = D - L - U$$\n",
    "   \n",
    "Perrašome sistemą $\\: Ax = B \\:$ į $\\: (D-L-U)x = B \\:$. Tuomet:\n",
    "$$ (D-L)x^{(k)} = Ux^{(k-1)} + b .$$\n",
    "\n",
    "Tarkime egzistuoja $(D-L)^{-1}$. Tuomet dauginame sistemą iš $(D-L)^{-1}$:\n",
    "$$ x^{(k)} = (D-L)^{-1}Ux^{(k-1)} + (D-L)^{-1}b $$\n",
    "\n",
    "Pasižymime $\\:T = (D-L)^{-1}U \\:$ ir $\\: c = (D-L)^{-1}b \\:$. Tuomet mūsų turimos sistemos sprendinys yra vektorius:\n",
    "$$ x^{(k)} = Tx^{(k+1)}+c $$"
   ]
  },
  {
   "cell_type": "code",
   "execution_count": 4,
   "metadata": {},
   "outputs": [],
   "source": [
    "import numpy as np\n",
    "import matplotlib.pyplot as plt"
   ]
  },
  {
   "cell_type": "code",
   "execution_count": 5,
   "metadata": {},
   "outputs": [
    {
     "name": "stdout",
     "output_type": "stream",
     "text": [
      "Sprendiniai: [ 0.08893316  0.44031878  0.77485963 -0.05614925]\n",
      "Paklaidos: [-8.32667268e-16  5.55111512e-16  0.00000000e+00  1.66533454e-16]\n"
     ]
    }
   ],
   "source": [
    "a = np.array([[2,1,0.5,0.1], [3,4,0,0.5], [1,2,8,3], [2,1,1,7]])\n",
    "b = np.array([1,2,7,1])\n",
    "x = np.array([1,0.5,0.5,1])\n",
    "N = 25\n",
    "\n",
    "#Nekonverguojantis\n",
    "#a = np.array([[2,3],[5,7]])\n",
    "#b = np.array([11,13])\n",
    "#x = np.array([1.1,2.3])\n",
    "\n",
    "#a = np.array([[16,3],[7,-11]])\n",
    "#b = np.array([11,13])\n",
    "#x = np.array([1,1])\n",
    "\n",
    "\n",
    "x_real = np.dot(np.linalg.inv(a),b)\n",
    "\n",
    "D = np.diagflat(np.diag(a))\n",
    "DL = (np.tril(a, k=0)-D) + D\n",
    "U = (a - ((np.tril(a, k=0)-D) + D))\n",
    "dl = np.linalg.inv(DL)\n",
    "t = np.dot(-dl, U)\n",
    "c = np.dot(dl, b)\n",
    "\n",
    "def seidel(T,C,n,X):\n",
    "    X_vec = X\n",
    "    for i in range(n):\n",
    "        X = np.dot(T,X) + C\n",
    "        X_vec = np.vstack((X_vec, X))\n",
    "    return X_vec\n",
    "    \n",
    "x_vec = seidel(t,c,N,x)\n",
    "print(f\"Sprendiniai: {x_vec[-1]}\")\n",
    "print(f\"Paklaidos: {x_real - x_vec[-1]}\")"
   ]
  },
  {
   "cell_type": "code",
   "execution_count": 7,
   "metadata": {},
   "outputs": [
    {
     "data": {
      "image/png": "[encoded data removed]",
      "text/plain": [
       "<Figure size 432x288 with 4 Axes>"
      ]
     },
     "metadata": {
      "needs_background": "light"
     },
     "output_type": "display_data"
    }
   ],
   "source": [
    "# Funkcijos grafikų braižymui\n",
    "colors = plt.rcParams[\"axes.prop_cycle\"]()\n",
    "fig, axs = plt.subplots(a.shape[0], 1)\n",
    "for i in range(a.shape[0]):\n",
    "    c = next(colors)[\"color\"]\n",
    "    axs[i].plot(np.arange(N+1), x_vec[:, i], color=c, label=f\"xk_{i}\")\n",
    "    axs[i].axhline(x_real[i], color='gray', linestyle='dashed')\n",
    "    axs[i].spines['top'].set_visible(False)\n",
    "    axs[i].spines['right'].set_visible(False)\n",
    "    axs[i].legend(shadow=True, fancybox=True)\n",
    "    \n",
    "plt.subplots_adjust(hspace=0.5)\n",
    "plt.show()"
   ]
  }
 ],
 "metadata": {
  "kernelspec": {
   "display_name": "Python 3",
   "language": "python",
   "name": "python3"
  },
  "language_info": {
   "codemirror_mode": {
    "name": "ipython",
    "version": 3
   },
   "file_extension": ".py",
   "mimetype": "text/x-python",
   "name": "python",
   "nbconvert_exporter": "python",
   "pygments_lexer": "ipython3",
   "version": "3.8.5"
  }
 },
 "nbformat": 4,
 "nbformat_minor": 4
}
