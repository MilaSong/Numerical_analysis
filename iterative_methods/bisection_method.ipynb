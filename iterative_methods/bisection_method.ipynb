{
 "cells": [
  {
   "cell_type": "markdown",
   "metadata": {},
   "source": [
    "# Bisekcijų metodas\n",
    "Tarkime, kad $f$ yra tolydi funkcija intervale $\\xi=[a;b]$ bei $f(a)f(b)<0$. Iš vidurinės reikšmės teoremos gauname, kad funkcija $f$ kerta $y=0$ ašį bent kartą visame intervale. \n",
    "\n",
    "> Tuomet bisekcijų metodo algoritmas:\n",
    "  > 1. Apsibrėžiame intervalą $[a;b]$, kur $(a<b)$ bei kuriame mes norime rasti tokį funkcijos $f$ nulį, kad $f(a)f(b)<0$. Taip pat apsibrėžiame konvergavimo kriterijų $\\varepsilon>0$.\n",
    "  > 2. Prisilyginame reikšmes: $x_0=a$, $x_1=b$, $y_0=f(x_0)$ ir $y_1=f(x_1)$.\n",
    "  > 3. Pasigaminame uždaro intervalo $[x_0; x_1]$ bisekciją:\n",
    "    $$ x_2 = \\frac{x_0+x_1}{2} $$\n",
    "    bei pasižymime $y_2 = f(x_2)$.\n",
    "  > 4. Susidarome naują intervalą:\n",
    "    - Jei $y_0y_1<0$ tuomet $x^*$ randasi tarp $x_0$ ir $x_1$, todėl gauname:\n",
    "      $$ x_0 = x_0 \\quad , \\quad x_1 = x_2 $$\n",
    "      $$ y_0 = y_0 \\quad , \\quad y_1 = y_2 $$\n",
    "    - Kitu atveju $x^*$ randasi tarp $x_1$ ir $x_2$, todėl:\n",
    "      $$ x_0 = x_1 \\quad , \\quad x_1 = x_2 $$\n",
    "      $$ y_0 = y_1 \\quad , \\quad y_1 = y_2 $$\n",
    "  > 5. Jei $|x_1-x_0|\\leq\\varepsilon(1+|x_0|+|x_1|)$, tuomet stabdome algoritmą ir gauname sprendinį $x^*=x_3$.\n"
   ]
  },
  {
   "cell_type": "code",
   "execution_count": 2,
   "metadata": {},
   "outputs": [],
   "source": [
    "import numpy as np\n",
    "import warnings\n",
    "import matplotlib.pyplot as plt\n",
    "warnings.filterwarnings('ignore')"
   ]
  },
  {
   "cell_type": "code",
   "execution_count": 3,
   "metadata": {},
   "outputs": [],
   "source": [
    "def solve_bisection(F, a, b, N):\n",
    "    if F(a)*F(b) >= 0:\n",
    "        print(\"Bisekcijų metodas nepavyko.\")\n",
    "        return None\n",
    "    A_vec = a\n",
    "    B_vec = b\n",
    "    x0 = a\n",
    "    x1 = b\n",
    "    y0 = F(x0)\n",
    "    y1 = F(x1)\n",
    "    for n in range(1,N+1):\n",
    "        x2 = (x0 + x1)/2\n",
    "        y2 = F(x2)\n",
    "        if y0*y2 < 0:\n",
    "            x0 = x0\n",
    "            A_vec = np.vstack((A_vec, x0))\n",
    "            x1 = x2\n",
    "            B_vec = np.vstack((B_vec, x1))\n",
    "        elif y1*y2 < 0:\n",
    "            x0 = x2\n",
    "            A_vec = np.vstack((A_vec, x0))\n",
    "            x1 = x1\n",
    "            B_vec = np.vstack((B_vec, x1))\n",
    "        elif y2 == 0:\n",
    "            print(\"Rastas tikslus sprendinys.\")\n",
    "            A_vec = np.vstack((A_vec, x2))\n",
    "            B_vec = np.vstack((B_vec, x2))\n",
    "            return A_vec, B_vec\n",
    "        else:\n",
    "            print(\"Bisekcijų metodas nepavyko.\")\n",
    "            return None\n",
    "    return A_vec, B_vec"
   ]
  },
  {
   "cell_type": "code",
   "execution_count": 4,
   "metadata": {},
   "outputs": [],
   "source": [
    "f = lambda t: 2*np.sin(t + np.pi/3) - t**2 - 1\n",
    "a_vec, b_vec = solve_bisection(f,-0.2,2,10)"
   ]
  },
  {
   "cell_type": "code",
   "execution_count": 5,
   "metadata": {},
   "outputs": [
    {
     "data": {
      "image/png": "[encoded data removed]",
      "text/plain": [
       "<Figure size 432x288 with 1 Axes>"
      ]
     },
     "metadata": {
      "needs_background": "light"
     },
     "output_type": "display_data"
    }
   ],
   "source": [
    "# Funkcijos grafikų braižymui\n",
    "plt.plot(np.arange(len(a_vec)), a_vec, color='c')\n",
    "plt.plot(np.arange(len(b_vec)), b_vec, color='g')\n",
    "plt.legend(['a(n)', 'b(n)'])\n",
    "plt.title(\"Sprendinių konvergavimas\")\n",
    "plt.show()"
   ]
  }
 ],
 "metadata": {
  "kernelspec": {
   "display_name": "Python 3",
   "language": "python",
   "name": "python3"
  },
  "language_info": {
   "codemirror_mode": {
    "name": "ipython",
    "version": 3
   },
   "file_extension": ".py",
   "mimetype": "text/x-python",
   "name": "python",
   "nbconvert_exporter": "python",
   "pygments_lexer": "ipython3",
   "version": "3.8.5"
  }
 },
 "nbformat": 4,
 "nbformat_minor": 4
}
