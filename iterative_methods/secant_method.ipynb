{
 "cells": [
  {
   "cell_type": "markdown",
   "metadata": {},
   "source": [
    "# Kirstinių metodas\n",
    "> 1. Prisiskiriame dvi pradines sąlygas $x_0$ ir $x_1$ bei pasirenkame konvergavimo kriterijų $\\varepsilon=(\\varepsilon_1, \\varepsilon_2)$.\n",
    "> 2. Randame $f(x_k)$ ir apskaičiuojame:\n",
    "  $$ \\delta_k = -f(x_k)\\frac{x_k - x_{k-1}}{f(x_k)-f(x_{k-1})}. $$\n",
    "> 3. Apskaičiuojame:\n",
    "  $$ x_{k+1} = x_k + \\delta_k. $$\n",
    "> 4. Jei $|x_{k+1} - x_k|<\\varepsilon(1-|x_{k+1}|)$, tuomet einame į 5 žingsnį. Kitu atveju - grįžtame į 2.\n",
    "> 5. Jei $|f(x_{k+1})|<\\varepsilon_2$, tuomet stabdome algoritmą ir sprendinys $x^* = x_{k+1}$. Kitu atveju sprendinio neradome."
   ]
  },
  {
   "cell_type": "code",
   "execution_count": 63,
   "metadata": {},
   "outputs": [],
   "source": [
    "import numpy as np\n",
    "import warnings\n",
    "import matplotlib.pyplot as plt\n",
    "warnings.filterwarnings('ignore')"
   ]
  },
  {
   "cell_type": "code",
   "execution_count": 67,
   "metadata": {},
   "outputs": [],
   "source": [
    "def solve_secant(F,x0,x1,N):\n",
    "    if F(x0)*F(x1) >= 0:\n",
    "        print(\"Kirstinių metodas nepavyko.\")\n",
    "        return None\n",
    "    A_vec = x0\n",
    "    B_vec = x1\n",
    "    a_n = x0\n",
    "    b_n = x1\n",
    "    for n in range(1,N+1):\n",
    "        m_n = a_n - F(a_n)*(b_n - a_n)/(F(b_n) - F(a_n))\n",
    "        f_m_n = F(m_n)\n",
    "        if F(a_n)*f_m_n < 0:\n",
    "            a_n = a_n\n",
    "            A_vec = np.vstack((A_vec, a_n))\n",
    "            b_n = m_n\n",
    "            B_vec = np.vstack((B_vec, b_n))\n",
    "        elif F(b_n)*f_m_n < 0:\n",
    "            a_n = m_n\n",
    "            A_vec = np.vstack((A_vec, a_n))\n",
    "            b_n = b_n\n",
    "            B_vec = np.vstack((B_vec, b_n))\n",
    "        elif f_m_n == 0:\n",
    "            print(\"Rastas tikslus sprendinys.\")\n",
    "            return A_vec, B_vec\n",
    "        else:\n",
    "            print(\"Kirstinių metodas nepavyko.\")\n",
    "            return A_vec, B_vec\n",
    "    return A_vec, B_vec"
   ]
  },
  {
   "cell_type": "code",
   "execution_count": 68,
   "metadata": {},
   "outputs": [
    {
     "name": "stdout",
     "output_type": "stream",
     "text": [
      "[0.91848501] [2]\n"
     ]
    }
   ],
   "source": [
    "f = lambda x: 2*np.sin(x+np.pi/3)-x**2-1\n",
    "a_vec, b_vec = solve_secant(f,-0.15,2,10)\n",
    "print(a_vec[-1], b_vec[-1])"
   ]
  },
  {
   "cell_type": "code",
   "execution_count": 69,
   "metadata": {},
   "outputs": [
    {
     "data": {
      "image/png": "[encoded data removed]",
      "text/plain": [
       "<Figure size 432x288 with 2 Axes>"
      ]
     },
     "metadata": {
      "needs_background": "light"
     },
     "output_type": "display_data"
    }
   ],
   "source": [
    "# Funkcijos grafikų braižymui\n",
    "fig, axs = plt.subplots(2, 1)\n",
    "axs[0].plot(np.arange(len(a_vec)), a_vec, color='c', label=\"a(n)\")\n",
    "axs[1].plot(np.arange(len(b_vec)), b_vec, color='g', label=\"b(n)\")\n",
    "axs[0].legend(shadow=True, fancybox=True)\n",
    "axs[1].legend(shadow=True, fancybox=True)\n",
    "plt.show()"
   ]
  }
 ],
 "metadata": {
  "kernelspec": {
   "display_name": "Python 3",
   "language": "python",
   "name": "python3"
  },
  "language_info": {
   "codemirror_mode": {
    "name": "ipython",
    "version": 3
   },
   "file_extension": ".py",
   "mimetype": "text/x-python",
   "name": "python",
   "nbconvert_exporter": "python",
   "pygments_lexer": "ipython3",
   "version": "3.8.5"
  }
 },
 "nbformat": 4,
 "nbformat_minor": 4
}
