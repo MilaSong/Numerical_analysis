{
 "cells": [
  {
   "cell_type": "markdown",
   "metadata": {},
   "source": [
    "# Niutono metodas\n",
    "> 1. Prilyginame $x_k = x$, $k = 0$ bei apsibrėžiame konvergavimo kriterijų $\\varepsilon\\equiv(\\varepsilon_1, \\varepsilon_2)>0$.\n",
    "> 2. Apskaičiuojame funkciją $f(x_k)$ ir jos pirmąją išvestinę $f^\\prime(x_k)$.  Taip gauname:  $$\\delta_k = - \\frac{f(x_k)}{f^\\prime(x_k)}.$$\n",
    "> 3. Randame $$x_{k+1} = x_k + \\delta_k.$$\n",
    "> 4. Jei $|x_{k+1}-x_k|<\\varepsilon_1(1-|x_{k+1}|)$, tuomet einame į 5 žingsnį, kitu atveju, grėžtame į 2.\n",
    "> 5. Jei $|f(x_{k+1})|<\\varepsilon_2$, tuomet stabdome iteracinį metodą ir sprendinys $x^* = x_{k+1}$. Kitu atveju sprendinio neradome."
   ]
  },
  {
   "cell_type": "code",
   "execution_count": 1,
   "metadata": {},
   "outputs": [],
   "source": [
    "import numpy as np\n",
    "import warnings\n",
    "import matplotlib.pyplot as plt\n",
    "warnings.filterwarnings('ignore')"
   ]
  },
  {
   "cell_type": "code",
   "execution_count": 30,
   "metadata": {},
   "outputs": [],
   "source": [
    "def solve_newton(F,DF,x0,e,max_iter):\n",
    "    xn = x0\n",
    "    X_vec = x0\n",
    "    for n in range(0,max_iter):\n",
    "        fxn = F(xn)\n",
    "        if abs(fxn) < e:\n",
    "            print(f\"Sprendinys rastas po {n} iteracijų.\")\n",
    "            return X_vec\n",
    "        Dfxn = DF(xn)\n",
    "        if Dfxn == 0:\n",
    "            print('Išvestinė lygi 0, sprendinys nerastas.')\n",
    "            return X_vec\n",
    "        xn = xn - fxn/Dfxn\n",
    "        X_vec = np.vstack((X_vec, xn))\n",
    "    print('Pasiektas maksimalus iteracijų skaičius, sprendinys atitinkantis konvergavimo sąlygas nerastas.')\n",
    "    return X_vec"
   ]
  },
  {
   "cell_type": "code",
   "execution_count": 33,
   "metadata": {},
   "outputs": [
    {
     "name": "stdout",
     "output_type": "stream",
     "text": [
      "Pasiektas maksimalus iteracijų skaičius, sprendinys atitinkantis konvergavimo sąlygas nerastas.\n",
      "[2.26199641]\n"
     ]
    }
   ],
   "source": [
    "f = lambda x: (x-1)**3 - 2\n",
    "Df = lambda x: (3*x-3)**2\n",
    "epsilon = 1e-8\n",
    "x_vec = solve_newton(f, Df, 1.5, epsilon, 10)\n",
    "print(x_vec[-1])"
   ]
  },
  {
   "cell_type": "code",
   "execution_count": 34,
   "metadata": {},
   "outputs": [
    {
     "data": {
      "image/png": "[encoded data removed]",
      "text/plain": [
       "<Figure size 432x288 with 1 Axes>"
      ]
     },
     "metadata": {
      "needs_background": "light"
     },
     "output_type": "display_data"
    }
   ],
   "source": [
    "# Funkcijos grafikų braižymui\n",
    "plt.plot(np.arange(len(x_vec)), x_vec, color='c')\n",
    "plt.legend(['x^*'])\n",
    "plt.title(\"Sprendinio konvergavimas\")\n",
    "plt.show()"
   ]
  }
 ],
 "metadata": {
  "kernelspec": {
   "display_name": "Python 3",
   "language": "python",
   "name": "python3"
  },
  "language_info": {
   "codemirror_mode": {
    "name": "ipython",
    "version": 3
   },
   "file_extension": ".py",
   "mimetype": "text/x-python",
   "name": "python",
   "nbconvert_exporter": "python",
   "pygments_lexer": "ipython3",
   "version": "3.8.5"
  }
 },
 "nbformat": 4,
 "nbformat_minor": 4
}
