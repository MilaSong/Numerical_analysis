{
 "cells": [
  {
   "cell_type": "markdown",
   "metadata": {},
   "source": [
    "# Konjuguotų gradientų metodas (iteracinis gradiento metodas)"
   ]
  },
  {
   "cell_type": "markdown",
   "metadata": {},
   "source": [
    "Sprendžiame tiesinių lygčių sistemą $\\: Ax=b \\: $:\n",
    "$$ \\begin{cases} a_{11}x_1 + a_{12}x_2 + ... + a_{1n}x_n \\\\ a_{21}x_1 + a_{22}x_2 + ... + a_{2n}x_n \\\\ ... \\\\ a_{n1}x_1 + a_{n2}x_2 + ... + a_{nn}x_n \\end{cases} $$,\n",
    "kurioje $det(A)\\neq 0$.\n",
    "\n",
    "Randame pirmąjį liekamąjį narį:\n",
    "$$ r_0 = b - Ax_0 $$\n",
    "Jei $r_0$ yra pakankamai mažas (mažesnis už pakankamai mažą dydį $\\varepsilon$), tuomet skaičiavimai baigiami ir gražinamas rezultatas $x_0$.\n",
    "\n",
    "Kadangi pirmojoje iteracijoje neturime krypties vektoriaus, pirmasis krypties vektorius $p_0$ bus lygus: $p_0 = r_0$. \n",
    "\n",
    "Pradedame $k$ iteracijų.\n",
    "Randame kintamąjį:\n",
    "$$ \\alpha_k := \\frac{r_k^Tr_k}{p_k^TAp_k} $$\n",
    "\n",
    "Tuomet:\n",
    "$$ x_{k+1} := x_k + \\alpha_kp_k, $$\n",
    "$$ r_{k+1} := r_k - \\alpha_kAp_k $$\n",
    "\n",
    "Jei $r_{k+1}$ yra pakankamai mažas, baigiame $k$ iteracijų. Toliau randame:\n",
    "$$ \\beta_k := \\frac{r_{k+1}^Tr_{k+1}}{r_k^Tr_k} $$\n",
    "$$ p_{k+1} := r_{k+1} + \\beta_kp_k $$\n",
    "\n",
    "Baigiame $k$ iteraciją, ir jei sprendinio konvergavimo sąlyga nesuveikė, atliekame k+1 iteraciją ir t.t."
   ]
  },
  {
   "cell_type": "code",
   "execution_count": 77,
   "metadata": {},
   "outputs": [],
   "source": [
    "import numpy as np\n",
    "import matplotlib.pyplot as plt"
   ]
  },
  {
   "cell_type": "code",
   "execution_count": 155,
   "metadata": {},
   "outputs": [],
   "source": [
    "_a = np.array([[4,1], [1,3]])\n",
    "_b = np.array([1,2])\n",
    "_x = np.array([2,1])\n",
    "\n",
    "a = np.array([[2,1,0.5], [3,4,0], [1,2,8]])\n",
    "b = np.array([1,2,1])\n",
    "x = np.array([0.5, 0.5, 0.125])\n",
    "\n",
    "epsilon = 0.001\n",
    "x_real = np.dot(np.linalg.inv(a),b)\n",
    "\n",
    "def cg(A, B, xk, Epsilon):\n",
    "    k=0\n",
    "    rk = B - np.dot(A,xk)\n",
    "    X_vec = np.copy(xk)\n",
    "    if np.all(abs(x_real - xk)<=Epsilon): \n",
    "        return X_vec,k+1\n",
    "    pk = rk\n",
    "    while(k!=100):\n",
    "        alpha_k = np.dot(rk,rk)/np.dot(pk,np.dot(A,pk))\n",
    "        x_k1 = xk + (alpha_k*pk)\n",
    "        X_vec = np.vstack((X_vec, x_k1))\n",
    "        r_k1 = rk - (alpha_k*np.dot(A,pk))\n",
    "        if np.all(abs(x_real - x_k1)<=Epsilon): \n",
    "            return X_vec,k+1\n",
    "        beta_k = np.dot(r_k1,r_k1)/np.dot(rk,rk)\n",
    "        p_k1 = r_k1 + (beta_k*pk)\n",
    "        k += 1\n",
    "        rk = r_k1\n",
    "        pk = p_k1\n",
    "        xk = x_k1\n",
    "    return X_vec,k"
   ]
  },
  {
   "cell_type": "code",
   "execution_count": 163,
   "metadata": {},
   "outputs": [
    {
     "name": "stdout",
     "output_type": "stream",
     "text": [
      "Sprendiniai: [0.39064703 0.20275686 0.03149455]\n",
      "Paklaidos: [0.00040313 0.00456022 0.0071043 ]\n"
     ]
    }
   ],
   "source": [
    "x_vec, N = cg(a,b,x,epsilon)\n",
    "print(f'Sprendiniai: {x_vec[-1]}')\n",
    "#vec_print = [ print(f\"{i}-asis sprendinys: {x_vec[i]}\") for i in range(len(x_vec))]\n",
    "print(f\"Paklaidos: {abs(x_real - x_vec[-1])}\")"
   ]
  },
  {
   "cell_type": "code",
   "execution_count": 164,
   "metadata": {},
   "outputs": [
    {
     "data": {
      "image/png": "[encoded data removed]",
      "text/plain": [
       "<Figure size 432x288 with 3 Axes>"
      ]
     },
     "metadata": {
      "needs_background": "light"
     },
     "output_type": "display_data"
    }
   ],
   "source": [
    "# Funkcijos grafikų braižymui\n",
    "colors = plt.rcParams[\"axes.prop_cycle\"]()\n",
    "fig, axs = plt.subplots(a.shape[0], 1)\n",
    "for i in range(a.shape[0]):\n",
    "    c = next(colors)[\"color\"]\n",
    "    axs[i].plot(np.arange(N+1), x_vec[:, i], color=c, label=f\"xk_{i}\")\n",
    "    axs[i].axhline(x_real[i], color='gray', linestyle='dashed')\n",
    "    axs[i].spines['top'].set_visible(False)\n",
    "    axs[i].spines['right'].set_visible(False)\n",
    "    axs[i].legend(shadow=True, fancybox=True)\n",
    "    \n",
    "plt.subplots_adjust(hspace=0.5)\n",
    "plt.show()"
   ]
  }
 ],
 "metadata": {
  "kernelspec": {
   "display_name": "Python 3",
   "language": "python",
   "name": "python3"
  },
  "language_info": {
   "codemirror_mode": {
    "name": "ipython",
    "version": 3
   },
   "file_extension": ".py",
   "mimetype": "text/x-python",
   "name": "python",
   "nbconvert_exporter": "python",
   "pygments_lexer": "ipython3",
   "version": "3.8.5"
  }
 },
 "nbformat": 4,
 "nbformat_minor": 4
}
