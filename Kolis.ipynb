{
 "cells": [
  {
   "cell_type": "markdown",
   "metadata": {},
   "source": [
    "# 2.Uždavinys "
   ]
  },
  {
   "cell_type": "markdown",
   "metadata": {},
   "source": [
    "Antrojo laipsnio splainas - tai splainas, kuriame daugianariai:\n",
    "$$ P_i^1(x) = \\sum_{k=0}^1 = a_0^{(i)} + a_1^{(i)}x + a_2^{(i)}x^2$$\n",
    "\n",
    "Iš daugianarių sudarius kelias sistemas ir jas išsprendus gauname kintamųjų reikšmes:\n",
    "\n",
    "\n",
    "$$ a_0 = \\frac{1}{\\Delta_0} \\cdot \n",
    "\\begin{vmatrix} \n",
    "y_0 & x_0 & (x_0)^2 \\\\ \n",
    "y_1 & x_1 & (x_1)^2 \\\\\n",
    "d_0 & 1 & 2x_0\n",
    "\\end{vmatrix}  $$\n",
    "\n",
    "$$ a_1 = \\frac{1}{\\Delta_0} \\cdot \n",
    "\\begin{vmatrix} \n",
    "1 & y_0 & (x_0)^2 \\\\ \n",
    "1 & y_1 & (x_1)^2 \\\\\n",
    "0 & d_0 & 2x_0\n",
    "\\end{vmatrix}  $$\n",
    "\n",
    "$$ a_2 = \\frac{1}{\\Delta_0} \\cdot \n",
    "\\begin{vmatrix} \n",
    "1 & x_0 & y_0 \\\\ \n",
    "1 & x_1 & y_1 \\\\\n",
    "0 & 1 & d_0\n",
    "\\end{vmatrix}  $$\n",
    "\n",
    "$$ a_{01} = \\frac{1}{\\Delta_1} \\cdot \n",
    "\\begin{vmatrix} \n",
    "y_1 & x_1 & (x_1)^2 \\\\ \n",
    "y_2 & x_2 & (x_2)^2 \\\\\n",
    "d_1 & 1 & 2x_1\n",
    "\\end{vmatrix}  $$\n",
    "\n",
    "$$ a_{11} = \\frac{1}{\\Delta_1} \\cdot \n",
    "\\begin{vmatrix} \n",
    "1 & y_1 & (x_1)^2 \\\\ \n",
    "1 & y_2 & (x_2)^2 \\\\\n",
    "0 & d_1 & 2x_1\n",
    "\\end{vmatrix}  $$\n",
    "\n",
    "$$ a_{21} = \\frac{1}{\\Delta_1} \\cdot \n",
    "\\begin{vmatrix} \n",
    "1 & x_1 & y_1 \\\\ \n",
    "1 & x_2 & y_2 \\\\\n",
    "0 & 1 & d_1\n",
    "\\end{vmatrix}  $$\n",
    "\n",
    "O matricų determinantai $\\Delta_0$ ir $\\Delta_1$ lygūs:\n",
    "$$ \\Delta_0 =  -(x_0 - x_1)^2  \\quad \\Delta_1 = -(x_1 - x_2)^2$$\n",
    "\n",
    "### Sprendimas:"
   ]
  },
  {
   "cell_type": "code",
   "execution_count": 3,
   "metadata": {},
   "outputs": [],
   "source": [
    "import numpy as np\n",
    "import matplotlib.pyplot as plt\n",
    "import warnings\n",
    "%matplotlib inline"
   ]
  },
  {
   "cell_type": "code",
   "execution_count": 18,
   "metadata": {},
   "outputs": [],
   "source": [
    "x = np.array([0.1, 2, 3])\n",
    "f = lambda t: 3*(np.tan(t)/t)\n",
    "y = f(x)\n",
    "d0 = -2\n",
    "\n",
    "delta0 = -(x[0] - x[1])**2\n",
    "delta1 = -(x[1] - x[2])**2\n",
    "\n",
    "def a_0(X, Y, D0, d_0):\n",
    "    a = [[Y[0], X[0], (X[0])**2], [Y[1], X[1], (X[1])**2], [d_0, 1, 2*X[0]]]\n",
    "    return (1/D0) * np.linalg.det(a)\n",
    "\n",
    "def a_1(X, Y, D0, d_0):\n",
    "    a = [[1, Y[0], (X[0])**2], [1, Y[1], (X[1])**2], [0, d_0, 2*X[0]]]\n",
    "    return (1/D0) * np.linalg.det(a)\n",
    "\n",
    "def a_2(X, Y, D0, d_0):\n",
    "    a = [[1, X[0], Y[0]], [1, X[1], Y[1]], [0, 1, d_0]]\n",
    "    return (1/D0) * np.linalg.det(a)\n",
    "\n",
    "def a_01(X, Y, D1, d_1):\n",
    "    a = [[Y[1], X[1], (X[1]**2)], [Y[2], X[2], (X[2]**2)], [d_1, 1, 2*X[1]]]\n",
    "    return (1/D1) * np.linalg.det(a)\n",
    "\n",
    "def a_11(X, Y, D1, d_1):\n",
    "    a = [[1, Y[1], (X[1]**2)], [1, Y[2], (X[2]**2)], [0, d_1, 2*X[1]]]\n",
    "    return (1/D1) * np.linalg.det(a)\n",
    "\n",
    "def a_21(X, Y, D1, d_1):\n",
    "    a = [[1, X[1], Y[1]], [1, X[2], Y[2]], [0, 1, d_1]]\n",
    "    return (1/D1) * np.linalg.det(a)\n",
    "    \n",
    "def plot_spline_f(t_0, t_1, t_, S_0, S_1, T_0, T_1, xlim_min, xlim_max):\n",
    "    offset = 0.2\n",
    "    plt.title(\"Antrojo laipsnio splaino interpoliavimas\")\n",
    "    #plt.axis([xlim_min - offset, xlim_max + offset, 0, 1]) #optional zooming in graph\n",
    "    plt.plot(t_0, S_0, color='r')\n",
    "    plt.plot(t_1, S_1, color='b')\n",
    "    plt.plot(t, f(t), 'black', linestyle='dashed')\n",
    "    plt.legend(('S0', 'S1', 'F'))\n",
    "    plt.show()\n",
    "    \n",
    "def error_f(S, f):\n",
    "    return S - f\n",
    "    \n",
    "def error_plot(_t, s_err):\n",
    "    plt.title(\"Absoliutinė paklaida\")\n",
    "    plt.plot(_t, s_err)\n",
    "    plt.axhline(y=0, color='black', linewidth=1)\n",
    "    plt.show()"
   ]
  },
  {
   "cell_type": "code",
   "execution_count": 26,
   "metadata": {},
   "outputs": [
    {
     "name": "stdout",
     "output_type": "stream",
     "text": [
      "S(0.2) = 2.8031493039556064\n",
      "S(0.7) = 1.5619692526787292\n"
     ]
    },
    {
     "data": {
      "image/png": "[encoded data removed]",
      "text/plain": [
       "<Figure size 432x288 with 1 Axes>"
      ]
     },
     "metadata": {
      "needs_background": "light"
     },
     "output_type": "display_data"
    },
    {
     "data": {
      "image/png": "[encoded data removed]",
      "text/plain": [
       "<Figure size 432x288 with 1 Axes>"
      ]
     },
     "metadata": {
      "needs_background": "light"
     },
     "output_type": "display_data"
    }
   ],
   "source": [
    "a0 = a_0(x, y, delta0, d0)\n",
    "a1 = a_1(x, y, delta0, d0)\n",
    "a2 = a_2(x, y, delta0, d0)\n",
    "\n",
    "d1 = a1 + (2*a2*x[1])\n",
    "\n",
    "a01 = a_01(x, y, delta1, d1)\n",
    "a11 = a_11(x, y, delta1, d1)\n",
    "a21 = a_21(x, y, delta1, d1)\n",
    "\n",
    "t0 = np.arange(x[0], x[1]+0.1, 0.1)\n",
    "t1 = np.arange(x[1], x[2]+0.1, 0.1)\n",
    "t = np.arange(x[0], x[2]+0.1, 0.1)\n",
    "S0 = lambda t: a0 + (a1 * t) + (a2*(t**2))\n",
    "S1 = lambda t: a01 + (a11 * t) + (a21*(t**2))\n",
    "T0 = lambda t: d0 * (t - x[0]) + y[0]\n",
    "T1 = lambda t: d1 * (t - x[1]) + y[1]\n",
    "\n",
    "print(f\"S(0.2) = {S0(0.2)}\")\n",
    "print(f\"S(0.7) = {S0(0.7)}\")\n",
    "\n",
    "plot_spline_f(t0, t1, t, S0(t0), S1(t1), T0(t), T1(t), x[0], x[-1])\n",
    "\n",
    "S_err = np.concatenate((error_f(S0(t0), f(t0))[:-1], error_f(S1(t1), f(t1))))\n",
    "error_plot(t, S_err)"
   ]
  }
 ],
 "metadata": {
  "kernelspec": {
   "display_name": "Python 3",
   "language": "python",
   "name": "python3"
  },
  "language_info": {
   "codemirror_mode": {
    "name": "ipython",
    "version": 3
   },
   "file_extension": ".py",
   "mimetype": "text/x-python",
   "name": "python",
   "nbconvert_exporter": "python",
   "pygments_lexer": "ipython3",
   "version": "3.8.5"
  }
 },
 "nbformat": 4,
 "nbformat_minor": 4
}
