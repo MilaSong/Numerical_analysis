{
 "cells": [
  {
   "cell_type": "markdown",
   "metadata": {},
   "source": [
    "# PKA.Paklaidų analizė"
   ]
  },
  {
   "cell_type": "markdown",
   "metadata": {},
   "source": [
    "### PKA1.Korektiškumo sąlyga\n",
    "Sakitinis uždavinys $y=A(x)$ vadinamas **korektiškai** suformuluotu, jei dėl bet kurių pradinių duomenų x sprendinys y egzistuoja, yra vienintelis ir yra stabilus pradinių duomenų x atžvilgiu. Stabilumo nebūvimas reiškia, kad sąlyginiai mažos pradinių duomenų x paklaidos $\\delta_x$ sukelia dideles sprendino y paklaidas $\\delta_y$\n",
    "\n",
    "Žemiau pateiktas nestabilus uždavinys:\n",
    "\n",
    "$\\begin{cases} 300x_1 + 400x_2 = 700 \\\\ 100x_1 + 133.2x_2 = 233  \\end{cases}$, turi sprendinį $x = \\left(\\begin{array}{cc} x_1 \\\\ x_2 \\end{array}\\right) = \\left(\\begin{array}{cc} -1.00 \\\\ 2.50 \\end{array}\\right)$ "
   ]
  },
  {
   "cell_type": "code",
   "execution_count": 2,
   "metadata": {},
   "outputs": [],
   "source": [
    "import numpy as np"
   ]
  },
  {
   "cell_type": "code",
   "execution_count": 3,
   "metadata": {},
   "outputs": [
    {
     "name": "stdout",
     "output_type": "stream",
     "text": [
      "Sprendiniai x = [-1.   2.5]\n"
     ]
    }
   ],
   "source": [
    "a = np.array([[300,400], [100,133.2]])\n",
    "b = np.array([700, 233])\n",
    "x = np.linalg.solve(a,b)\n",
    "print(f\"Sprendiniai x = {x}\")"
   ]
  },
  {
   "cell_type": "markdown",
   "metadata": {},
   "source": [
    "Šioje sistemoje elementas $a_{22}$ yra netikslus. Jį pakeitūs į $a_{22} = 133.3$, gauname sprendinius:"
   ]
  },
  {
   "cell_type": "code",
   "execution_count": 4,
   "metadata": {},
   "outputs": [
    {
     "name": "stdout",
     "output_type": "stream",
     "text": [
      "Sprendiniai x = [-11.  10.]\n"
     ]
    }
   ],
   "source": [
    "a[1][1] = 133.3\n",
    "x_err = np.linalg.solve(a,b)\n",
    "print(f\"Sprendiniai x = {x_err}\")"
   ]
  },
  {
   "cell_type": "markdown",
   "metadata": {},
   "source": [
    "Analizuojama sistemos sprendinių paklaidas. Paklaidų formulės\n",
    "1. Absoliučioji paklaida: $\\varepsilon = |x - a|$, kur x yra tikroji reikšmė, o a - gautoji reikšmė;\n",
    "2. Santykinė paklaida: $\\delta = \\frac{\\varepsilon}{|x|}100\\%$, kur $\\epsilon$ yra absoliučioji paklaida, o x - tikroji reikšmė."
   ]
  },
  {
   "cell_type": "code",
   "execution_count": 5,
   "metadata": {},
   "outputs": [],
   "source": [
    "def err_epsilon(x, a):\n",
    "    return abs(x-a)\n",
    "\n",
    "def err_delta(x, a):\n",
    "    return (err_epsilon(x,a)/abs(x))*100"
   ]
  },
  {
   "cell_type": "code",
   "execution_count": 6,
   "metadata": {},
   "outputs": [
    {
     "name": "stdout",
     "output_type": "stream",
     "text": [
      "Sprendinio x1 absoliuti paklaida: 10.000000000002416\n",
      "Sprendinio x1 santykinė paklaida: 1000.0000000003837\n",
      "Sprendinio x2 absoliuti paklaida: 7.500000000001812\n",
      "Sprendinio x2 santykinė paklaida: 300.00000000008527\n"
     ]
    }
   ],
   "source": [
    "print(f\"Sprendinio x1 absoliuti paklaida: {err_epsilon(x[0], x_err[0])}\")\n",
    "print(f\"Sprendinio x1 santykinė paklaida: {err_delta(x[0], x_err[0])}\")\n",
    "print(f\"Sprendinio x2 absoliuti paklaida: {err_epsilon(x[1], x_err[1])}\")\n",
    "print(f\"Sprendinio x2 santykinė paklaida: {err_delta(x[1], x_err[1])}\")"
   ]
  },
  {
   "cell_type": "markdown",
   "metadata": {},
   "source": [
    "### PKA1.2.Matricos A paklaidos\n",
    "Matricą A, kurios visi elementai tikslūs žymime $A$, o matricą, kurios visi arba kai kurie elementai netikslūs, žymime $A'$. Jei vektorius $x$ yra sistemos $Ax=c$ sprendinys, o vektorius $x'$ yra sistemos $A'x=c$ sprendinys, tai naudojame žymėjimus:\n",
    "\n",
    "$\\Delta A = (A-A')$, o $\\Delta x = (x - x')$\n",
    "\n",
    "##### L1.1. Jei $det(A) \\neq 0$ ir $det(A') \\neq 0$, tai\n",
    "\n",
    "$\\Delta x = -(A^{-1})(\\Delta A)(x+\\Delta x)$"
   ]
  },
  {
   "cell_type": "markdown",
   "metadata": {},
   "source": [
    "### PKA1.3. Matricos A korektiškumo kiekybinis įvertinimas\n",
    "Dažnai naudojamos normos vektoriams ir matricoms:\n",
    "1. Begalybės norma\n",
    "    - $||X||_{\\infty} = max_{1\\leq i\\leq n} \\left(|a_i|\\right)$\n",
    "    - $||A||_{\\infty} = max_{1\\leq i\\leq n} \\left( \\sum_{i=1}^n |a_i|\\right)$\n",
    "    - dar žymima $||\\bullet||$\n",
    "    \n",
    "2. Euklido norma\n",
    "    - $||X||_2 = \\sqrt{\\sum_{i=1}^n (a_i)^2}$\n",
    "    - $||A||_2 = \\sqrt{\\sum_{i=1}^n \\left(\\sum_{i=1}^n  (a_i)^2 \\right)}$"
   ]
  },
  {
   "cell_type": "code",
   "execution_count": 7,
   "metadata": {},
   "outputs": [],
   "source": [
    "def infty_norm(matrix):\n",
    "    return np.linalg.norm(matrix, np.inf)\n",
    "\n",
    "def euclid_norm(matrix):\n",
    "    return np.linalg.norm(matrix)\n",
    "\n",
    "def cond(matrix):\n",
    "    return infty_norm(matrix) * infty_norm(np.linalg.inv(matrix))"
   ]
  },
  {
   "cell_type": "code",
   "execution_count": 8,
   "metadata": {},
   "outputs": [
    {
     "name": "stdout",
     "output_type": "stream",
     "text": [
      "Begalybės norma = 700.0\n",
      "Euklido norma = 527.0125615201216\n"
     ]
    }
   ],
   "source": [
    "A = np.array([[300,400], [100,133.2]])\n",
    "print(f\"Begalybės norma = {infty_norm(A)}\")\n",
    "print(f\"Euklido norma = {euclid_norm(A)}\")"
   ]
  },
  {
   "cell_type": "markdown",
   "metadata": {},
   "source": [
    "##### Th1.1. Jei $det(A) \\neq 0$ ir $det(A') \\neq 0$, tai\n",
    "$ \\frac{||\\Delta x||}{||x + \\Delta x||} \\leq ||A|| \\cdot ||A^{-1}|| \\cdot \\frac{||\\Delta A||}{||A||}$\n",
    "\n",
    "##### D1.3 Dydis: $cond(A) = ||A||\\cdot||A^{-1}||$, vadinamas matricos A **sąlygotumo skaičiumi**.\n",
    "Sąlygotumo skaičius parodo sistemos korektiškumo lygmenį, t.y. matricos A sąlygotumą. Praktiniuose skaičiavimuose priimama, kad jei $cond(A) \\geq 10^3$, tai matrica A yra blogai sąlygota, ir jei $1 \\leq cond(A) \\leq 10^2$, tai matrica A yra gerai sąlygota."
   ]
  },
  {
   "cell_type": "code",
   "execution_count": 9,
   "metadata": {},
   "outputs": [
    {
     "name": "stdout",
     "output_type": "stream",
     "text": [
      "Matricos A begalybės norma = 14.0\n",
      "Matricos A^(-1) begalybės norma = 2.5\n",
      "Sąlygotumo skaičius = 35.0\n"
     ]
    }
   ],
   "source": [
    "A = np.array([[9,5], [1,1]])\n",
    "A_inv = np.linalg.inv(A)\n",
    "print(f\"Matricos A begalybės norma = {infty_norm(A)}\")\n",
    "print(f\"Matricos A^(-1) begalybės norma = {infty_norm(A_inv)}\")\n",
    "print(f\"Sąlygotumo skaičius = {cond(A)}\")"
   ]
  },
  {
   "cell_type": "markdown",
   "metadata": {},
   "source": [
    "### PKA2. Paklaidų analizė\n",
    "Skaičiaus A absoliutinė paklaida\n",
    ": $\\Delta_a = |A - a| \\geq 0$\n",
    "\n",
    "Skaičiaus A absoliutinė santykinė paklaida\n",
    ": $\\delta_a = \\frac{\\Delta_a}{|A|}$\n",
    "\n",
    "Sąsaja\n",
    ": $\\Delta_a = |A|\\delta_a$\n",
    "\n",
    "##### 3.1. Teiginys\n",
    "Jei f yra dviejų kintamųjų funkcija, skaičiai a,b yra skaičių A ir B artiniai, tai funcijos $c=f(a,b)$ maksimalioji **absoliutinė** paklaida (MAP) yra\n",
    "\n",
    "$\\Delta_c = \\Delta_a \\left| \\frac{\\partial f}{\\partial x} \\right| + \\Delta_b \\left| \\frac{\\partial f}{\\partial y} \\right| $ \n",
    "\n",
    "##### 3.2. Teiginys\n",
    "Jei f yra dviejų kintamųjų funkcija, skaičiai a,b yra skaičių A ir B artiniai, tai funcijos $c=f(a,b)$ maksimalioji **santykinė** paklaida (MSP) yra\n",
    "\n",
    "$\\Delta_c = \\Delta_a \\left| \\frac{\\partial \\ln f}{\\partial x} \\right| + \\Delta_b \\left| \\frac{\\partial \\ln f}{\\partial y} \\right| $ "
   ]
  },
  {
   "cell_type": "markdown",
   "metadata": {},
   "source": [
    "### PKA4. Aritmetiniai veiksmai su artuitiniais skaičiais\n",
    "Tarkime žinomos artinių MSP\n",
    ": $\\delta_a = \\frac{\\Delta_a}{|a|}$ ir $\\delta_b = \\frac{\\Delta_b}{|b|}$. Tuomet galioja:\n",
    "\n",
    "##### T.4.1. $\\Delta_{a+b} = \\Delta_a + \\Delta_b$\n",
    "\n",
    "##### T.4.2. $\\delta_{a+b} = \\frac{\\Delta_a}{|a+b|} + \\frac{\\Delta_b}{|a+b|}$\n",
    "\n",
    "##### T.4.3. $\\Delta_{a-b} = \\Delta_a + \\Delta_b$\n",
    "\n",
    "##### T.4.4. $\\delta_{a+b} = \\frac{\\Delta_a}{|a-b|} + \\frac{\\Delta_b}{|a-b|}$\n",
    "\n",
    "##### T.4.5. $\\Delta_{ab} = |b|\\Delta_a + |a|\\Delta_b$\n",
    "\n",
    "##### T.4.6. $\\delta_{ab} = \\frac{\\Delta_a}{|a|} + \\frac{\\Delta_b}{|b|} = \\delta_a + \\delta_b$\n",
    "\n",
    "##### T.4.7. $\\Delta_{\\frac{a}{b}} = \\frac{\\Delta_a}{|b|} + \\frac{\\Delta_b}{b^2}|a|$\n",
    "\n",
    "##### T.4.8. $\\delta_{\\frac{a}{b}} = \\delta_a + \\delta_b$"
   ]
  }
 ],
 "metadata": {
  "kernelspec": {
   "display_name": "Python 3",
   "language": "python",
   "name": "python3"
  },
  "language_info": {
   "codemirror_mode": {
    "name": "ipython",
    "version": 3
   },
   "file_extension": ".py",
   "mimetype": "text/x-python",
   "name": "python",
   "nbconvert_exporter": "python",
   "pygments_lexer": "ipython3",
   "version": "3.8.5"
  }
 },
 "nbformat": 4,
 "nbformat_minor": 4
}
